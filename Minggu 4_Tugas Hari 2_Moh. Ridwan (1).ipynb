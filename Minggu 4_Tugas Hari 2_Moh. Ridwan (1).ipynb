{
 "cells": [
  {
   "cell_type": "markdown",
   "metadata": {
    "colab_type": "text",
    "id": "5K6xQ_mFbt7B"
   },
   "source": [
    "<h1>Soal 1: Pemahaman Algoritma</h1>\n",
    "\n",
    "Jawab Pertanyaan di bawah ini dengan penyampaian bahasa sendiri!\n",
    "\n",
    "1. Bagaimana proses algoritma KNN?\n",
    "2. Jelaskan minimal 2 kekurangan dari algoritma KNN?"
   ]
  },
  {
   "cell_type": "markdown",
   "metadata": {
    "colab_type": "text",
    "id": "00A5KWAygagM"
   },
   "source": [
    "Jawab:\n"
   ]
  },
  {
   "cell_type": "markdown",
   "metadata": {},
   "source": [
    "#1. Proses Algoritma KKN\n",
    "- menghitung jarak dirinya ke setiap dengan poin -> dengan rumus euclidean distance\n",
    "- memilih sebanyak k terdekat\n",
    "- melakukan voting label terbanyak"
   ]
  },
  {
   "cell_type": "markdown",
   "metadata": {},
   "source": [
    "#2. Kekuerangan Algoritma KKN\n",
    "- Sangat sensitif terhadap data pencilan (data yg menyimpang dalam kumpulan data yg lain)\n",
    "- jika k nya genap = si KKN akan kebingungan misalkan label dari tetangga terdekat jumlahnya sama"
   ]
  },
  {
   "cell_type": "markdown",
   "metadata": {
    "colab_type": "text",
    "id": "UDvanK5pgcnF"
   },
   "source": [
    "---"
   ]
  },
  {
   "cell_type": "markdown",
   "metadata": {
    "colab_type": "text",
    "id": "VsHxDJ4jbt7P"
   },
   "source": [
    "<h1>Soal 2: Pengaplikasian Algoritma KNN</h1>\n",
    "\n",
    "- Buatlah model KNN\n",
    "- Training model tersebut kepada data X_train dengan hyperparameter kombinasi antara  2<= k <=20 dan weights bernilai 'uniform', dan 'distance'  \n",
    "- Lakukan prediksi terhadap data X_test untuk model di setiap kombinasi k dan weights\n",
    "- Score dengan accuracy dari hasil prediksi terhadap data X_test untuk setiap kombinasi hyperparameter, masukan score tersebut ke dalam objek list dengan di groupkan berdasarkan jenis weights, sehingga di akhir kita punya variable misalkan list_uniform_score, dan list_distance_score\n",
    "- Plot kedua list tersebut dengan lineplot kedalam satu axis dan bandingkan hasilnya"
   ]
  },
  {
   "cell_type": "code",
   "execution_count": 2,
   "metadata": {
    "colab": {},
    "colab_type": "code",
    "id": "Gng40Wu8bt7c"
   },
   "outputs": [],
   "source": [
    "from sklearn.datasets import load_wine\n",
    "import pandas as pd\n",
    "import numpy as np\n",
    "\n",
    "wine = load_wine()\n",
    "df = pd.DataFrame(np.c_[wine['data'], wine['target']], columns= wine['feature_names'] + ['class'])\n",
    "\n",
    "#Preprocessing data\n",
    "X = df.drop('class', axis=1)\n",
    "y = df['class']\n",
    "\n",
    "from sklearn.model_selection import train_test_split\n",
    "\n",
    "X_train, X_test, y_train, y_test = train_test_split(X, y, test_size=0.2, random_state=21)"
   ]
  },
  {
   "cell_type": "markdown",
   "metadata": {
    "colab_type": "text",
    "id": "9IRv63G0bt8T"
   },
   "source": [
    "Contoh hasil yang di harapkan :\n",
    "\n",
    "\n",
    "```\n",
    "Uniform Scores:\n",
    "[0.6944444444444444,\n",
    " 0.8055555555555556,\n",
    " 0.7222222222222222,\n",
    " 0.6666666666666666,\n",
    " 0.6388888888888888,\n",
    " 0.75,\n",
    " 0.6388888888888888,\n",
    " 0.6944444444444444,\n",
    " 0.6944444444444444,\n",
    " 0.7222222222222222,\n",
    " 0.6388888888888888,\n",
    " 0.6666666666666666,\n",
    " 0.6388888888888888,\n",
    " 0.6666666666666666,\n",
    " 0.6111111111111112,\n",
    " 0.6666666666666666,\n",
    " 0.6388888888888888,\n",
    " 0.6666666666666666,\n",
    " 0.6111111111111112]\n",
    "\n",
    "Distance scores:\n",
    "[0.75,\n",
    " 0.8333333333333334,\n",
    " 0.7777777777777778,\n",
    " 0.75,\n",
    " 0.7222222222222222,\n",
    " 0.75,\n",
    " 0.6944444444444444,\n",
    " 0.7222222222222222,\n",
    " 0.6944444444444444,\n",
    " 0.6944444444444444,\n",
    " 0.6944444444444444,\n",
    " 0.6944444444444444,\n",
    " 0.6944444444444444,\n",
    " 0.6666666666666666,\n",
    " 0.6666666666666666,\n",
    " 0.6666666666666666,\n",
    " 0.6666666666666666,\n",
    " 0.6666666666666666,\n",
    " 0.6666666666666666]\n",
    "```\n",
    "\n",
    "\n",
    "\n",
    " \n",
    "\n",
    "\n",
    "![alt text](https://drive.google.com/uc?id=1pppy_BWQsg5tdgOBEU1GgiHSklLLoimt)"
   ]
  },
  {
   "cell_type": "code",
   "execution_count": 3,
   "metadata": {},
   "outputs": [],
   "source": [
    "from sklearn.neighbors import KNeighborsClassifier\n",
    "from sklearn.metrics import accuracy_score"
   ]
  },
  {
   "cell_type": "code",
   "execution_count": 4,
   "metadata": {},
   "outputs": [],
   "source": [
    "b=[]\n",
    "for i in range(2,21):\n",
    "    model_knn1 = KNeighborsClassifier(n_neighbors=i)\n",
    "    model_knn1.fit(X_train, y_train)\n",
    "    y_pred = model_knn1.predict(X_test)\n",
    "    b.append(accuracy_score(y_test, y_pred))"
   ]
  },
  {
   "cell_type": "code",
   "execution_count": 5,
   "metadata": {},
   "outputs": [
    {
     "name": "stdout",
     "output_type": "stream",
     "text": [
      "distance score:\n"
     ]
    },
    {
     "data": {
      "text/plain": [
       "[0.6944444444444444,\n",
       " 0.8055555555555556,\n",
       " 0.7222222222222222,\n",
       " 0.6666666666666666,\n",
       " 0.6388888888888888,\n",
       " 0.75,\n",
       " 0.6388888888888888,\n",
       " 0.6944444444444444,\n",
       " 0.6944444444444444,\n",
       " 0.7222222222222222,\n",
       " 0.6388888888888888,\n",
       " 0.6666666666666666,\n",
       " 0.6388888888888888,\n",
       " 0.6666666666666666,\n",
       " 0.6111111111111112,\n",
       " 0.6666666666666666,\n",
       " 0.6388888888888888,\n",
       " 0.6666666666666666,\n",
       " 0.6111111111111112]"
      ]
     },
     "execution_count": 5,
     "metadata": {},
     "output_type": "execute_result"
    }
   ],
   "source": [
    "print('distance score:')\n",
    "b"
   ]
  },
  {
   "cell_type": "code",
   "execution_count": 6,
   "metadata": {},
   "outputs": [],
   "source": [
    "a=[]\n",
    "for i in range(2,21):\n",
    "    model_knn1 = KNeighborsClassifier(n_neighbors=i, weights='distance')\n",
    "    model_knn1.fit(X_train, y_train)\n",
    "    y_pred = model_knn1.predict(X_test)\n",
    "    a.append(accuracy_score(y_test, y_pred))"
   ]
  },
  {
   "cell_type": "code",
   "execution_count": 7,
   "metadata": {},
   "outputs": [
    {
     "name": "stdout",
     "output_type": "stream",
     "text": [
      "distance score:\n"
     ]
    },
    {
     "data": {
      "text/plain": [
       "[0.75,\n",
       " 0.8333333333333334,\n",
       " 0.7777777777777778,\n",
       " 0.75,\n",
       " 0.7222222222222222,\n",
       " 0.75,\n",
       " 0.6944444444444444,\n",
       " 0.7222222222222222,\n",
       " 0.6944444444444444,\n",
       " 0.6944444444444444,\n",
       " 0.6944444444444444,\n",
       " 0.6944444444444444,\n",
       " 0.6944444444444444,\n",
       " 0.6666666666666666,\n",
       " 0.6666666666666666,\n",
       " 0.6666666666666666,\n",
       " 0.6666666666666666,\n",
       " 0.6666666666666666,\n",
       " 0.6666666666666666]"
      ]
     },
     "execution_count": 7,
     "metadata": {},
     "output_type": "execute_result"
    }
   ],
   "source": [
    "print('distance score:')\n",
    "a"
   ]
  },
  {
   "cell_type": "code",
   "execution_count": 8,
   "metadata": {},
   "outputs": [],
   "source": [
    "j=[]\n",
    "for r in range(2, 21):\n",
    "    j.append(r)"
   ]
  },
  {
   "cell_type": "code",
   "execution_count": 9,
   "metadata": {},
   "outputs": [
    {
     "data": {
      "image/png": "[encoded data removed]",
      "text/plain": [
       "<Figure size 1152x576 with 1 Axes>"
      ]
     },
     "metadata": {
      "needs_background": "light"
     },
     "output_type": "display_data"
    }
   ],
   "source": [
    "import matplotlib.pyplot as plt\n",
    "fig, ax = plt.subplots(figsize=(16, 8))\n",
    "ax.plot(j, b, label='distance score', color='skyblue', marker='x')\n",
    "ax.plot(j, a, label='uniform score', color='orange', marker='o')\n",
    "ax.set_title('Acuracy: Uniform Score vs Distance Score')\n",
    "ax.set_xlabel('K-Value')\n",
    "ax.set_ylabel('Score')\n",
    "plt.legend()\n",
    "plt.show()"
   ]
  },
  {
   "cell_type": "markdown",
   "metadata": {
    "colab_type": "text",
    "id": "UnInuMmFgfQp"
   },
   "source": [
    "---"
   ]
  },
  {
   "cell_type": "markdown",
   "metadata": {
    "colab_type": "text",
    "id": "1xGA6Usmbt8b"
   },
   "source": [
    "<h1>Soal 3: Pengaplikasian Model Linear Regression</h1>\n",
    "\n",
    "Applikasikan model linear regresi kedalam data berikut. Kemudian tunjukan parameter koefesien dan intercept dari model tersebut."
   ]
  },
  {
   "cell_type": "code",
   "execution_count": 10,
   "metadata": {
    "colab": {},
    "colab_type": "code",
    "id": "IEsbrAiybt8i"
   },
   "outputs": [],
   "source": [
    "import numpy as np\n",
    "\n",
    "rng = np.random.RandomState(1)\n",
    "\n",
    "X = 10 * rng.rand(50, 4)\n",
    "y = np.array([  0.9826564 ,  49.40390035,  85.76013175,  29.17254633,\n",
    "        11.270054  ,  61.53852735, -19.52503854,  10.10230867,\n",
    "        82.03058206,  45.72660678,  82.09252575,  90.78872391,\n",
    "        67.94178098,  39.97492762, 124.78866966,  85.24615819,\n",
    "        85.68491086,  80.39481211,  14.54591581, 137.19722354,\n",
    "        85.04063428,  94.76681927,  84.64289989,  38.76421156,\n",
    "        47.33953927,  94.50853335,  77.3276567 ,  -9.77846805,\n",
    "        61.13434468,  42.12124052,  26.65634335, 120.41593333,\n",
    "       138.08132504, 103.33745675, 145.64447692,  19.54777986,\n",
    "        87.40631024, 111.47327389,  95.94874761, 146.34817502,\n",
    "       118.10333528,  56.85956484, 108.57660235, 114.30790247,\n",
    "        40.27107041,  73.83871008,  45.52217182,  -7.57752547,\n",
    "       147.81772162, 139.40285349])"
   ]
  },
  {
   "cell_type": "code",
   "execution_count": 11,
   "metadata": {},
   "outputs": [],
   "source": [
    "from sklearn.linear_model import LinearRegression\n",
    "model_lr = LinearRegression(fit_intercept=True)"
   ]
  },
  {
   "cell_type": "code",
   "execution_count": 13,
   "metadata": {},
   "outputs": [
    {
     "data": {
      "text/plain": [
       "LinearRegression()"
      ]
     },
     "execution_count": 13,
     "metadata": {},
     "output_type": "execute_result"
    }
   ],
   "source": [
    "model_lr.fit(X, y)"
   ]
  },
  {
   "cell_type": "code",
   "execution_count": 14,
   "metadata": {},
   "outputs": [
    {
     "data": {
      "text/plain": [
       "array([  0.9826564 ,  49.40390035,  85.76013175,  29.17254633,\n",
       "        11.270054  ,  61.53852735, -19.52503854,  10.10230867,\n",
       "        82.03058206,  45.72660678,  82.09252575,  90.78872391,\n",
       "        67.94178098,  39.97492762, 124.78866966,  85.24615819,\n",
       "        85.68491086,  80.39481211,  14.54591581, 137.19722354,\n",
       "        85.04063428,  94.76681927,  84.64289989,  38.76421156,\n",
       "        47.33953927,  94.50853335,  77.32765671,  -9.77846804,\n",
       "        61.13434468,  42.12124053,  26.65634335, 120.41593333,\n",
       "       138.08132504, 103.33745675, 145.64447692,  19.54777986,\n",
       "        87.40631024, 111.4732739 ,  95.94874762, 146.34817502,\n",
       "       118.10333528,  56.85956484, 108.57660235, 114.30790247,\n",
       "        40.27107041,  73.83871008,  45.52217182,  -7.57752547,\n",
       "       147.81772162, 139.40285349])"
      ]
     },
     "execution_count": 14,
     "metadata": {},
     "output_type": "execute_result"
    }
   ],
   "source": [
    "y_predict = model_lr.predict(X)\n",
    "y_predict"
   ]
  },
  {
   "cell_type": "code",
   "execution_count": 16,
   "metadata": {},
   "outputs": [
    {
     "name": "stdout",
     "output_type": "stream",
     "text": [
      "parameter intercept:  0.5000000016248833\n"
     ]
    }
   ],
   "source": [
    "print('parameter intercept: ', model_lr.intercept_)"
   ]
  },
  {
   "cell_type": "code",
   "execution_count": 17,
   "metadata": {},
   "outputs": [
    {
     "name": "stdout",
     "output_type": "stream",
     "text": [
      "parameter koefesien:  [ 1.5 -5.   9.  10. ]\n"
     ]
    }
   ],
   "source": [
    "print('parameter koefesien: ', model_lr.coef_)"
   ]
  }
 ],
 "metadata": {
  "colab": {
   "collapsed_sections": [],
   "name": "Tugas Hari 2 Pekan 4.ipynb",
   "provenance": []
  },
  "kernelspec": {
   "display_name": "Python 3",
   "language": "python",
   "name": "python3"
  },
  "language_info": {
   "codemirror_mode": {
    "name": "ipython",
    "version": 3
   },
   "file_extension": ".py",
   "mimetype": "text/x-python",
   "name": "python",
   "nbconvert_exporter": "python",
   "pygments_lexer": "ipython3",
   "version": "3.7.3"
  }
 },
 "nbformat": 4,
 "nbformat_minor": 1
}
